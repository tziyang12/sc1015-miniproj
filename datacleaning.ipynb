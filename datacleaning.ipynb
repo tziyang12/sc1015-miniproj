{
 "cells": [
  {
   "cell_type": "code",
   "execution_count": 1,
   "id": "d34e22a4-48ca-4ac2-849e-7077b3cd9144",
   "metadata": {},
   "outputs": [
    {
     "name": "stdout",
     "output_type": "stream",
     "text": [
      "Missing values in dataframe:\n",
      "adult                   0\n",
      "genre_ids               0\n",
      "id                      0\n",
      "original_language       0\n",
      "original_title          0\n",
      "popularity              0\n",
      "release_date            0\n",
      "title                   0\n",
      "vote_average            0\n",
      "vote_count              0\n",
      "revenue                 0\n",
      "production_companies    0\n",
      "budget                  0\n",
      "dtype: int64\n",
      "data shape:  (9089, 13)\n",
      "'backdrop_path' column not found.\n",
      "'poster_path' column not found.\n",
      "'video' column not found.\n",
      "'overview' column not found.\n"
     ]
    }
   ],
   "source": [
    "import requests\n",
    "import pandas as pd\n",
    "import json\n",
    "import time\n",
    "\n",
    "\n",
    "# Load the existing CSV file into a DataFrame\n",
    "data = pd.read_csv('movie_data.csv')\n",
    "\n",
    "# Check missing values in data\n",
    "print(\"Missing values in dataframe:\")\n",
    "print(data.isnull().sum())\n",
    "print(\"data shape: \", data.shape)\n",
    "\n",
    "#Drop unused features\n",
    "if 'id' in data.columns:\n",
    "    try:\n",
    "        data = data.drop(columns=['backdrop_path'])\n",
    "    except KeyError:\n",
    "        print(\"'backdrop_path' column not found.\")\n",
    "    try:\n",
    "        data = data.drop(columns=['poster_path'])\n",
    "    except KeyError:\n",
    "        print(\"'poster_path' column not found.\")\n",
    "    try:\n",
    "        data = data.drop(columns=['video'])\n",
    "    except KeyError:\n",
    "        print(\"'video' column not found.\")\n",
    "    try:\n",
    "        data = data.drop(columns=['overview'])\n",
    "    except KeyError:\n",
    "        print(\"'overview' column not found.\")\n",
    "    try:\n",
    "        data = data.drop(columns=['original_title'])\n",
    "    except KeyError:\n",
    "        print(\"'original_title' column not found.\")\n",
    "\n"
   ]
  },
  {
   "cell_type": "code",
   "execution_count": 2,
   "id": "a47f6927-9dc1-4068-ab84-623d99212dc9",
   "metadata": {},
   "outputs": [
    {
     "data": {
      "text/plain": [
       "adult                   9089\n",
       "genre_ids               9089\n",
       "id                      9089\n",
       "original_language       9089\n",
       "popularity              9089\n",
       "release_date            9089\n",
       "title                   9089\n",
       "vote_average            9089\n",
       "vote_count              9089\n",
       "revenue                 9089\n",
       "production_companies    9089\n",
       "budget                  9089\n",
       "dtype: int64"
      ]
     },
     "execution_count": 2,
     "metadata": {},
     "output_type": "execute_result"
    }
   ],
   "source": [
    "data.head()\n",
    "data.count()"
   ]
  },
  {
   "cell_type": "code",
   "execution_count": 3,
   "id": "555ff276-ed75-4448-9ad5-dc9110521eeb",
   "metadata": {},
   "outputs": [],
   "source": [
    "#FEATURE ENGINEERING\n",
    "\n",
    "# Extract release year from release_date\n",
    "data['release_year'] = pd.to_datetime(data['release_date']).dt.year\n",
    "\n",
    "# Extract release month from release_date\n",
    "data['release_month'] = pd.to_datetime(data['release_date']).dt.month\n",
    "\n",
    "# Count the number of genres\n",
    "data['num_genres'] = data['genre_ids'].apply(lambda x: len(x.split(',')))\n",
    "\n",
    "# Map release month to season\n",
    "season_map = {1: 'Winter', 2: 'Winter', 3: 'Spring', 4: 'Spring', 5: 'Spring', 6: 'Summer',\n",
    "              7: 'Summer', 8: 'Summer', 9: 'Fall', 10: 'Fall', 11: 'Fall', 12: 'Winter'}\n",
    "data['release_season'] = data['release_month'].map(season_map)\n",
    "\n",
    "# Calculate budget-to-revenue ratio\n",
    "data['budget_revenue_ratio'] = data['budget'] / data['revenue']"
   ]
  },
  {
   "cell_type": "code",
   "execution_count": 4,
   "id": "4a5adb8f-7867-4ab1-8006-b58dca326397",
   "metadata": {},
   "outputs": [
    {
     "name": "stdout",
     "output_type": "stream",
     "text": [
      "Number of rows with zero revenue: 2371\n",
      "Number of rows with zero budget: 2773\n",
      "Number of rows with non-zero revenue and budget: 5745\n",
      "Number of rows with zero revenue or budget: 3344\n"
     ]
    }
   ],
   "source": [
    "#SEGMENTATION\n",
    "\n",
    "# Create masks to identify rows with zero values for revenue and budget\n",
    "revenue_zero_mask = data['revenue'] == 0\n",
    "budget_zero_mask = data['budget'] == 0\n",
    "\n",
    "# Segment the data based on zero values for revenue and budget\n",
    "revenue_zero_data = data[revenue_zero_mask]\n",
    "budget_zero_data = data[budget_zero_mask]\n",
    "non_zero_data = data[~(revenue_zero_mask | budget_zero_mask)]\n",
    "zero_data = data[(revenue_zero_mask | budget_zero_mask)]\n",
    "\n",
    "# Display the sizes of each segment\n",
    "print(\"Number of rows with zero revenue:\", len(revenue_zero_data))\n",
    "print(\"Number of rows with zero budget:\", len(budget_zero_data))\n",
    "print(\"Number of rows with non-zero revenue and budget:\", len(non_zero_data))\n",
    "print(\"Number of rows with zero revenue or budget:\", len(zero_data))"
   ]
  },
  {
   "cell_type": "code",
   "execution_count": 5,
   "id": "0939fd54-a419-4a01-b840-3853196dc861",
   "metadata": {},
   "outputs": [],
   "source": [
    "revenue_zero_data.to_csv('revenue_zero_data.csv', index=False)\n",
    "budget_zero_data.to_csv('budget_zero_data.csv', index=False)\n",
    "non_zero_data.to_csv('non_zero_data.csv', index=False)\n",
    "zero_data.to_csv('zero_data.csv', index=False)"
   ]
  },
  {
   "cell_type": "code",
   "execution_count": null,
   "id": "684e468b-0315-4658-a059-ad36cc2c0e84",
   "metadata": {},
   "outputs": [],
   "source": []
  }
 ],
 "metadata": {
  "kernelspec": {
   "display_name": "Python 3 (ipykernel)",
   "language": "python",
   "name": "python3"
  },
  "language_info": {
   "codemirror_mode": {
    "name": "ipython",
    "version": 3
   },
   "file_extension": ".py",
   "mimetype": "text/x-python",
   "name": "python",
   "nbconvert_exporter": "python",
   "pygments_lexer": "ipython3",
   "version": "3.11.5"
  }
 },
 "nbformat": 4,
 "nbformat_minor": 5
}
